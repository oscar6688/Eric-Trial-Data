{
 "cells": [
  {
   "cell_type": "code",
   "execution_count": 6,
   "metadata": {},
   "outputs": [],
   "source": [
    "import pandas as pd\n",
    "import os\n",
    "import shutil\n",
    "\n",
    "# Step 1: Load the CSV file and extract numerical values\n",
    "file_path = '/Users/oscarli/Desktop/GitHub/eric-trial-data/topo.csv'\n",
    "df = pd.read_csv(file_path)\n",
    "\n",
    "# Extract only the numerical values\n",
    "numerical_values = df.select_dtypes(include=[int, float])"
   ]
  },
  {
   "cell_type": "code",
   "execution_count": 9,
   "metadata": {},
   "outputs": [
    {
     "data": {
      "text/plain": [
       "['topo.ipynb',\n",
       " 'topo.txt',\n",
       " '.DS_Store',\n",
       " 'fert_man.ipynb',\n",
       " 'fert_man_file_sys2.csv',\n",
       " 'fert_man_file_sys3.csv',\n",
       " 'fert_man_file_sys1.csv',\n",
       " 'topo_sys_1',\n",
       " 'fert_man_file_sys4.csv',\n",
       " 'fert_man_file_sys5.csv',\n",
       " 'fert_sys_1',\n",
       " 'topo.csv',\n",
       " 'irrigation.csv',\n",
       " '.gitignore',\n",
       " 'topo_sys_3',\n",
       " 'topo_sys_4',\n",
       " '.git',\n",
       " 'irr',\n",
       " 'irr_man.ipynb',\n",
       " 'topo_sys_5',\n",
       " 'topo_sys_2',\n",
       " 'fert_sys_2',\n",
       " 'fert_sys_5',\n",
       " 'fert_sys_4',\n",
       " 'fert_sys_3']"
      ]
     },
     "execution_count": 9,
     "metadata": {},
     "output_type": "execute_result"
    }
   ],
   "source": [
    "# Convert to .txt format with only numbers\n",
    "output_path = '/Users/oscarli/Desktop/GitHub/eric-trial-data/topo.txt'\n",
    "numerical_values.to_csv(output_path, header=False, index=False)\n",
    "\n",
    "# Step 2: Create folders and store the .txt file in each\n",
    "source_file = output_path\n",
    "\n",
    "for i in range(1, 6):\n",
    "    folder_name = f'topo_sys_{i}'\n",
    "    folder_path = os.path.join('/Users/oscarli/Desktop/GitHub/eric-trial-data', folder_name)\n",
    "    os.makedirs(folder_path, exist_ok=True)\n",
    "    destination_file = os.path.join(folder_path, 'topo_eric.txt')\n",
    "    shutil.copy(source_file, destination_file)\n",
    "\n",
    "# Verify the creation of folders and files\n",
    "os.listdir('/Users/oscarli/Desktop/GitHub/eric-trial-data')"
   ]
  },
  {
   "cell_type": "code",
   "execution_count": null,
   "metadata": {},
   "outputs": [],
   "source": []
  }
 ],
 "metadata": {
  "kernelspec": {
   "display_name": "Python 3",
   "language": "python",
   "name": "python3"
  },
  "language_info": {
   "codemirror_mode": {
    "name": "ipython",
    "version": 3
   },
   "file_extension": ".py",
   "mimetype": "text/x-python",
   "name": "python",
   "nbconvert_exporter": "python",
   "pygments_lexer": "ipython3",
   "version": "3.11.1"
  }
 },
 "nbformat": 4,
 "nbformat_minor": 2
}
